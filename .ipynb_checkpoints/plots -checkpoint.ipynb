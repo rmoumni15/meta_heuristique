{
 "cells": [
  {
   "cell_type": "code",
   "execution_count": 1,
   "id": "alien-degree",
   "metadata": {},
   "outputs": [],
   "source": [
    "BEST_KNOWN = {\"aaa1\": 11,\n",
    "              \"abz5\": 1234,\n",
    "              \"abz6\": 943,\n",
    "              \"abz7\": 656,\n",
    "              \"abz8\": 665,\n",
    "              \"abz9\": 679,\n",
    "              \"ft06\": 55,\n",
    "              \"ft10\": 930,\n",
    "              \"ft20\": 1165,\n",
    "              \"la01\": 666,\n",
    "              \"la02\": 655,\n",
    "              \"la03\": 597,\n",
    "              \"la04\": 590,\n",
    "              \"la05\": 593,\n",
    "              \"la06\": 926,\n",
    "              \"la07\": 890,\n",
    "              \"la08\": 863,\n",
    "              \"la09\": 951,\n",
    "              \"la10\": 958,\n",
    "              \"la11\": 1222,\n",
    "              \"la12\": 1039,\n",
    "              \"la13\": 1150,\n",
    "              \"la14\": 1292,\n",
    "              \"la15\": 1207,\n",
    "              \"la16\": 945,\n",
    "              \"la17\": 784,\n",
    "              \"la18\": 848,\n",
    "              \"la19\": 842,\n",
    "              \"la20\": 902,\n",
    "              \"la21\": 1046,\n",
    "              \"la22\": 927,\n",
    "              \"la23\": 1032,\n",
    "              \"la24\": 935,\n",
    "              \"la25\": 977,\n",
    "              \"la26\": 1218,\n",
    "              \"la27\": 1235,\n",
    "              \"la28\": 1216,\n",
    "              \"la29\": 1152,\n",
    "              \"la30\": 1355,\n",
    "              \"la31\": 1784,\n",
    "              \"la32\": 1850,\n",
    "              \"la33\": 1719,\n",
    "              \"la34\": 1721,\n",
    "              \"la35\": 1888,\n",
    "              \"la36\": 1268,\n",
    "              \"la37\": 1397,\n",
    "              \"la38\": 1196,\n",
    "              \"la39\": 1233,\n",
    "              \"la40\": 1222,\n",
    "              \"orb01\": 1059,\n",
    "              \"orb02\": 888,\n",
    "              \"orb03\": 1005,\n",
    "              \"orb04\": 1005,\n",
    "              \"orb05\": 887,\n",
    "              \"orb06\": 1010,\n",
    "              \"orb07\": 397,\n",
    "              \"orb08\": 899,\n",
    "              \"orb09\": 934,\n",
    "              \"orb10\": 944,\n",
    "              \"swv01\": 1407,\n",
    "              \"swv02\": 1475,\n",
    "              \"swv03\": 1398,\n",
    "              \"swv04\": 1474,\n",
    "              \"swv05\": 1424,\n",
    "              \"swv06\": 1678,\n",
    "              \"swv07\": 1600,\n",
    "              \"swv08\": 1763,\n",
    "              \"swv09\": 1661,\n",
    "              \"swv10\": 1767,\n",
    "              \"swv11\": 2991,\n",
    "              \"swv12\": 3003,\n",
    "              \"swv13\": 3104,\n",
    "              \"swv14\": 2968,\n",
    "              \"swv15\": 2904,\n",
    "              \"swv16\": 2924,\n",
    "              \"swv17\": 2794,\n",
    "              \"swv18\": 2852,\n",
    "              \"swv19\": 2843,\n",
    "              \"swv20\": 2823,\n",
    "              \"yn1\": 885,\n",
    "              \"yn2\": 909,\n",
    "              \"yn3\": 892,\n",
    "              \"yn4\": 968,\n",
    "              \"ta01\": 1231,\n",
    "              \"ta02\": 1244,\n",
    "              \"ta03\": 1218,\n",
    "              \"ta04\": 1175,\n",
    "              \"ta05\": 1224,\n",
    "              \"ta06\": 1238,\n",
    "              \"ta07\": 1227,\n",
    "              \"ta08\": 1217,\n",
    "              \"ta09\": 1274,\n",
    "              \"ta10\": 1241,\n",
    "              \"ta11\": 1361,\n",
    "              \"ta12\": 1367,\n",
    "              \"ta13\": 1342,\n",
    "              \"ta14\": 1345,\n",
    "              \"ta15\": 1340,\n",
    "              \"ta16\": 1360,\n",
    "              \"ta17\": 1462,\n",
    "              \"ta18\": 1396,\n",
    "              \"ta19\": 1335,\n",
    "              \"ta20\": 1351,\n",
    "              \"ta21\": 1644,\n",
    "              \"ta22\": 1600,\n",
    "              \"ta23\": 1557,\n",
    "              \"ta24\": 1647,\n",
    "              \"ta25\": 1595,\n",
    "              \"ta26\": 1645,\n",
    "              \"ta27\": 1680,\n",
    "              \"ta28\": 1614,\n",
    "              \"ta29\": 1635,\n",
    "              \"ta30\": 1584,\n",
    "              \"ta31\": 1764,\n",
    "              \"ta32\": 1796,\n",
    "              \"ta33\": 1793,\n",
    "              \"ta34\": 1829,\n",
    "              \"ta35\": 2007,\n",
    "              \"ta36\": 1819,\n",
    "              \"ta37\": 1778,\n",
    "              \"ta38\": 1673,\n",
    "              \"ta39\": 1795,\n",
    "              \"ta40\": 1674,\n",
    "              \"ta41\": 2018,\n",
    "              \"ta42\": 1956,\n",
    "              \"ta43\": 1859,\n",
    "              \"ta44\": 1984,\n",
    "              \"ta45\": 2000,\n",
    "              \"ta46\": 2021,\n",
    "              \"ta47\": 1903,\n",
    "              \"ta48\": 1952,\n",
    "              \"ta49\": 1968,\n",
    "              \"ta50\": 1926,\n",
    "              \"ta51\": 2760,\n",
    "              \"ta52\": 2756,\n",
    "              \"ta53\": 2717,\n",
    "              \"ta54\": 2839,\n",
    "              \"ta55\": 2679,\n",
    "              \"ta56\": 2781,\n",
    "              \"ta57\": 2943,\n",
    "              \"ta58\": 2885,\n",
    "              \"ta59\": 2655,\n",
    "              \"ta60\": 2723,\n",
    "              \"ta61\": 2868,\n",
    "              \"ta62\": 2869,\n",
    "              \"ta63\": 2755,\n",
    "              \"ta64\": 2702,\n",
    "              \"ta65\": 2725,\n",
    "              \"ta66\": 2845,\n",
    "              \"ta67\": 2825,\n",
    "              \"ta68\": 2784,\n",
    "              \"ta69\": 3071,\n",
    "              \"ta70\": 2995,\n",
    "             \"ta79\": 2350}"
   ]
  },
  {
   "cell_type": "code",
   "execution_count": 2,
   "id": "industrial-heading",
   "metadata": {},
   "outputs": [],
   "source": [
    "import time\n",
    "from tqdm import tqdm\n",
    "import argparse\n",
    "import pandas as pd\n",
    "from datetime import datetime\n",
    "from Solvers.Tabou import TabouSolver\n",
    "from Solvers.Descent import Descent\n",
    "from Solvers.Greedy import GreedySolver\n",
    "from utils.Instance import Instance\n",
    "import matplotlib.pyplot as plt\n",
    "\n",
    "DICT_GREEDY = {\n",
    "    'SPT': GreedySolver.greedySPT,\n",
    "    'LRPT': GreedySolver.greedyLRPT,\n",
    "    'EST_SPT': GreedySolver.greedyEST_SPT,\n",
    "    'EST_LRPT': GreedySolver.greedyEST_LRPT\n",
    "}\n",
    "\n",
    "def getvalues(solve, instance, start):\n",
    "    makespan = solve.schedule.makespan()\n",
    "    best = BEST_KNOWN[instance]\n",
    "    ecart = round(100 * (makespan - best) / best, 1)\n",
    "    size = str(solve.instance.numJobs) + \"x\" + str(solve.instance.numTasks)\n",
    "    runtime = time.time() - start\n",
    "\n",
    "    return size, best, round(runtime, 2), makespan, ecart"
   ]
  },
  {
   "cell_type": "code",
   "execution_count": 20,
   "id": "editorial-leadership",
   "metadata": {},
   "outputs": [],
   "source": [
    "TIMEOUT = 3600\n",
    "instances = ['aaa1','ft06','ft10','ft20','la30','ta40']\n",
    "index = ['instance', 'size', 'best', 'runtime', 'makespan', 'ecart']\n",
    "results = {}\n",
    "Res = {}"
   ]
  },
  {
   "cell_type": "code",
   "execution_count": 23,
   "id": "constant-survival",
   "metadata": {},
   "outputs": [
    {
     "name": "stderr",
     "output_type": "stream",
     "text": [
      "Processing ta40: 100%|███████████████████████████████████████████████████████████████████| 6/6 [00:01<00:00,  3.47it/s]\n"
     ]
    }
   ],
   "source": [
    "pbar = tqdm(instances)\n",
    "for inst in pbar:\n",
    "    pbar.set_description(\"Processing %s\" % inst)\n",
    "    try:\n",
    "        instance = Instance.fromFile('instances/instances/' + inst)\n",
    "    except(FileNotFoundError, IOError, ValueError):\n",
    "        if ValueError:\n",
    "            instance = Instance.fromFile2('instances/instances/' + inst,4)\n",
    "            pass\n",
    "        else:        \n",
    "            print('File not found')\n",
    "        \n",
    "    for solver in DICT_GREEDY.keys():\n",
    "        start = time.time()\n",
    "        sol = DICT_GREEDY[solver](instance=instance)\n",
    "        values_lrpt = getvalues(sol, inst, start)\n",
    "        results[solver] = [inst, values_lrpt[0], values_lrpt[1], values_lrpt[2], values_lrpt[3],\n",
    "                                        values_lrpt[4]]\n",
    "\n",
    "    start = time.time()\n",
    "    sol = Descent.solve(instance=instance, timeout=TIMEOUT)\n",
    "    values_descent = getvalues(sol, inst, start)\n",
    "    results['descent'] = [inst, values_descent[0], values_descent[1], values_descent[2],\n",
    "                                       values_descent[3], values_descent[4]]\n",
    "\n",
    "    start = time.time()\n",
    "    sol = TabouSolver.solve(instance=instance, timeout=TIMEOUT)\n",
    "    values_taboo = getvalues(sol, inst, start)\n",
    "    results['tabou'] = [inst, values_taboo[0], values_taboo[1], values_taboo[2], values_taboo[3],\n",
    "                                     values_taboo[4]]\n",
    "\n",
    "    Res[inst] = pd.DataFrame(results, index=index)\n",
    "    results = {}\n",
    "#results_df = pd.DataFrame(results, index=index)"
   ]
  },
  {
   "cell_type": "code",
   "execution_count": 38,
   "id": "bridal-minnesota",
   "metadata": {},
   "outputs": [],
   "source": [
    "spt_res = [16,108,2569,1165,2765,5409,10411]\n",
    "ress = {}\n",
    "\n",
    "for inst,res in zip(instances, spt_res):\n",
    "    ress[inst] = res"
   ]
  },
  {
   "cell_type": "code",
   "execution_count": 39,
   "id": "aggressive-backing",
   "metadata": {},
   "outputs": [
    {
     "data": {
      "text/plain": [
       "{'aaa1': 16,\n",
       " 'ft06': 108,\n",
       " 'ft10': 2569,\n",
       " 'ft20': 1165,\n",
       " 'la30': 2765,\n",
       " 'ta40': 5409}"
      ]
     },
     "execution_count": 39,
     "metadata": {},
     "output_type": "execute_result"
    }
   ],
   "source": [
    "ress"
   ]
  },
  {
   "cell_type": "code",
   "execution_count": null,
   "id": "third-water",
   "metadata": {},
   "outputs": [],
   "source": []
  },
  {
   "cell_type": "code",
   "execution_count": null,
   "id": "undefined-fashion",
   "metadata": {},
   "outputs": [],
   "source": []
  },
  {
   "cell_type": "code",
   "execution_count": 46,
   "id": "changing-destiny",
   "metadata": {},
   "outputs": [
    {
     "data": {
      "image/png": "[encoded data removed]",
      "text/plain": [
       "<Figure size 720x360 with 1 Axes>"
      ]
     },
     "metadata": {
      "needs_background": "light"
     },
     "output_type": "display_data"
    }
   ],
   "source": [
    "courses = list(ress.keys())\n",
    "values = list(ress.values())\n",
    "  \n",
    "fig = plt.figure(figsize = (10, 5))\n",
    " \n",
    "# creating the bar plot\n",
    "plt.bar(courses, values, color ='red',\n",
    "        width = 0.4)\n",
    " \n",
    "plt.xlabel(\"instances\")\n",
    "plt.ylabel(\"makespan\")\n",
    "plt.grid(which='both')\n",
    "plt.title(\"SPT makespan\")\n",
    "plt.show()"
   ]
  },
  {
   "cell_type": "code",
   "execution_count": 24,
   "id": "creative-brief",
   "metadata": {},
   "outputs": [
    {
     "data": {
      "text/plain": [
       "{'aaa1':            SPT  LRPT EST_SPT EST_LRPT descent tabou\n",
       " instance  aaa1  aaa1    aaa1     aaa1    aaa1  aaa1\n",
       " size       2x3   2x3     2x3      2x3     2x3   2x3\n",
       " best        11    11      11       11      11    11\n",
       " runtime      0     0       0        0       0  0.01\n",
       " makespan    16    11      12       12      12    12\n",
       " ecart     45.5     0     9.1      9.1     9.1   9.1,\n",
       " 'ft06':            SPT  LRPT EST_SPT EST_LRPT descent tabou\n",
       " instance  ft06  ft06    ft06     ft06    ft06  ft06\n",
       " size       6x6   6x6     6x6      6x6     6x6   6x6\n",
       " best        55    55      55       55      55    55\n",
       " runtime      0     0       0        0       0  0.03\n",
       " makespan   108    74      77       63      63    63\n",
       " ecart     96.4  34.5      40     14.5    14.5  14.5,\n",
       " 'ft10':             SPT   LRPT EST_SPT EST_LRPT descent  tabou\n",
       " instance   ft10   ft10    ft10     ft10    ft10   ft10\n",
       " size      10x10  10x10   10x10    10x10   10x10  10x10\n",
       " best        930    930     930      930     930    930\n",
       " runtime       0      0       0        0    0.01   0.18\n",
       " makespan   2569   1289    2330     1259    1259   1259\n",
       " ecart     176.2   38.6   150.5     35.4    35.4   35.4,\n",
       " 'ft20':             SPT  LRPT EST_SPT EST_LRPT descent tabou\n",
       " instance   ft20  ft20    ft20     ft20    ft20  ft20\n",
       " size       20x5  20x5    20x5     20x5    20x5  20x5\n",
       " best       1165  1165    1165     1165    1165  1165\n",
       " runtime       0     0    0.01     0.01    0.02  0.23\n",
       " makespan   2765  1955    1662     1844    1844  1844\n",
       " ecart     137.3  67.8    42.7     58.3    58.3  58.3,\n",
       " 'la30':             SPT   LRPT EST_SPT EST_LRPT descent  tabou\n",
       " instance   la30   la30    la30     la30    la30   la30\n",
       " size      20x10  20x10   20x10    20x10   20x10  20x10\n",
       " best       1355   1355    1355     1355    1355   1355\n",
       " runtime    0.01      0       0     0.01    0.01   0.27\n",
       " makespan   5409   1944    2533     1866    1866   1866\n",
       " ecart     299.2   43.5    86.9     37.7    37.7   37.7,\n",
       " 'ta40':             SPT   LRPT EST_SPT EST_LRPT descent  tabou\n",
       " instance   ta40   ta40    ta40     ta40    ta40   ta40\n",
       " size      30x15  30x15   30x15    30x15   30x15  30x15\n",
       " best       1674   1674    1674     1674    1674   1674\n",
       " runtime    0.01   0.01    0.02     0.02    0.03   0.82\n",
       " makespan  10411   2940    4294     2917    2917   2917\n",
       " ecart     521.9   75.6   156.5     74.3    74.3   74.3}"
      ]
     },
     "execution_count": 24,
     "metadata": {},
     "output_type": "execute_result"
    }
   ],
   "source": [
    "Res"
   ]
  },
  {
   "cell_type": "code",
   "execution_count": 5,
   "id": "finite-redhead",
   "metadata": {},
   "outputs": [
    {
     "data": {
      "image/png": "[encoded data removed]",
      "text/plain": [
       "<Figure size 432x288 with 1 Axes>"
      ]
     },
     "metadata": {
      "needs_background": "light"
     },
     "output_type": "display_data"
    }
   ],
   "source": [
    "Res['ft20'].T.makespan.plot.bar(legend=True,)\n",
    "plt.show()"
   ]
  },
  {
   "cell_type": "code",
   "execution_count": 6,
   "id": "religious-opinion",
   "metadata": {},
   "outputs": [
    {
     "data": {
      "image/png": "[encoded data removed]",
      "text/plain": [
       "<Figure size 432x288 with 1 Axes>"
      ]
     },
     "metadata": {
      "needs_background": "light"
     },
     "output_type": "display_data"
    }
   ],
   "source": [
    "Res['ta79'].T.makespan.plot.bar(legend=True,)\n",
    "plt.show()"
   ]
  },
  {
   "cell_type": "code",
   "execution_count": 7,
   "id": "blessed-evaluation",
   "metadata": {},
   "outputs": [
    {
     "data": {
      "text/plain": [
       "SPT         2765\n",
       "LRPT        1955\n",
       "EST_SPT     1662\n",
       "EST_LRPT    1844\n",
       "descent     1844\n",
       "tabou       1844\n",
       "Name: makespan, dtype: object"
      ]
     },
     "execution_count": 7,
     "metadata": {},
     "output_type": "execute_result"
    }
   ],
   "source": [
    "Res['ft20'].T.makespan"
   ]
  },
  {
   "cell_type": "code",
   "execution_count": 8,
   "id": "historic-scope",
   "metadata": {},
   "outputs": [
    {
     "name": "stdout",
     "output_type": "stream",
     "text": [
      "no improvement\n"
     ]
    }
   ],
   "source": [
    "from Descent_2TEST import blocks_from_critic_path, sol_gen_voisin, return_all_negh, best_neigh, descent_solv\n",
    "\n",
    "instance = Instance.fromFile('instances/ft20')\n",
    "sol = GreedySolver.greedyEST_LRPT(instance=instance)\n",
    "\n",
    "tzz = descent_solv(instance= instance, solution= sol.schedule, plot= False, timeout=8000)\n"
   ]
  },
  {
   "cell_type": "code",
   "execution_count": 9,
   "id": "serious-accent",
   "metadata": {},
   "outputs": [
    {
     "name": "stdout",
     "output_type": "stream",
     "text": [
      "1844\n",
      "1699\n"
     ]
    }
   ],
   "source": [
    "print(sol.schedule.makespan())\n",
    "print(tzz[0].schedule.makespan())"
   ]
  },
  {
   "cell_type": "code",
   "execution_count": 10,
   "id": "pediatric-frank",
   "metadata": {},
   "outputs": [],
   "source": [
    "from utils.RessourceOrder import RessourceOrder\n"
   ]
  },
  {
   "cell_type": "code",
   "execution_count": 11,
   "id": "obvious-bruce",
   "metadata": {},
   "outputs": [],
   "source": [
    "ress = RessourceOrder(instance= tzz[0].schedule)"
   ]
  },
  {
   "cell_type": "code",
   "execution_count": 12,
   "id": "consistent-twelve",
   "metadata": {},
   "outputs": [
    {
     "data": {
      "text/plain": [
       "True"
      ]
     },
     "execution_count": 12,
     "metadata": {},
     "output_type": "execute_result"
    }
   ],
   "source": [
    "tzz[0].schedule.isValid()"
   ]
  },
  {
   "cell_type": "code",
   "execution_count": null,
   "id": "weird-cooperation",
   "metadata": {},
   "outputs": [],
   "source": []
  }
 ],
 "metadata": {
  "kernelspec": {
   "display_name": "Python 3",
   "language": "python",
   "name": "python3"
  },
  "language_info": {
   "codemirror_mode": {
    "name": "ipython",
    "version": 3
   },
   "file_extension": ".py",
   "mimetype": "text/x-python",
   "name": "python",
   "nbconvert_exporter": "python",
   "pygments_lexer": "ipython3",
   "version": "3.8.3"
  }
 },
 "nbformat": 4,
 "nbformat_minor": 5
}
