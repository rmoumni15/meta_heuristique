{
 "cells": [
  {
   "cell_type": "code",
   "execution_count": 1,
   "id": "signal-toddler",
   "metadata": {},
   "outputs": [],
   "source": [
    "BEST_KNOWN = {\"aaa1\": 11,\n",
    "              \"abz5\": 1234,\n",
    "              \"abz6\": 943,\n",
    "              \"abz7\": 656,\n",
    "              \"abz8\": 665,\n",
    "              \"abz9\": 679,\n",
    "              \"ft06\": 55,\n",
    "              \"ft10\": 930,\n",
    "              \"ft20\": 1165,\n",
    "              \"la01\": 666,\n",
    "              \"la02\": 655,\n",
    "              \"la03\": 597,\n",
    "              \"la04\": 590,\n",
    "              \"la05\": 593,\n",
    "              \"la06\": 926,\n",
    "              \"la07\": 890,\n",
    "              \"la08\": 863,\n",
    "              \"la09\": 951,\n",
    "              \"la10\": 958,\n",
    "              \"la11\": 1222,\n",
    "              \"la12\": 1039,\n",
    "              \"la13\": 1150,\n",
    "              \"la14\": 1292,\n",
    "              \"la15\": 1207,\n",
    "              \"la16\": 945,\n",
    "              \"la17\": 784,\n",
    "              \"la18\": 848,\n",
    "              \"la19\": 842,\n",
    "              \"la20\": 902,\n",
    "              \"la21\": 1046,\n",
    "              \"la22\": 927,\n",
    "              \"la23\": 1032,\n",
    "              \"la24\": 935,\n",
    "              \"la25\": 977,\n",
    "              \"la26\": 1218,\n",
    "              \"la27\": 1235,\n",
    "              \"la28\": 1216,\n",
    "              \"la29\": 1152,\n",
    "              \"la30\": 1355,\n",
    "              \"la31\": 1784,\n",
    "              \"la32\": 1850,\n",
    "              \"la33\": 1719,\n",
    "              \"la34\": 1721,\n",
    "              \"la35\": 1888,\n",
    "              \"la36\": 1268,\n",
    "              \"la37\": 1397,\n",
    "              \"la38\": 1196,\n",
    "              \"la39\": 1233,\n",
    "              \"la40\": 1222,\n",
    "              \"orb01\": 1059,\n",
    "              \"orb02\": 888,\n",
    "              \"orb03\": 1005,\n",
    "              \"orb04\": 1005,\n",
    "              \"orb05\": 887,\n",
    "              \"orb06\": 1010,\n",
    "              \"orb07\": 397,\n",
    "              \"orb08\": 899,\n",
    "              \"orb09\": 934,\n",
    "              \"orb10\": 944,\n",
    "              \"swv01\": 1407,\n",
    "              \"swv02\": 1475,\n",
    "              \"swv03\": 1398,\n",
    "              \"swv04\": 1474,\n",
    "              \"swv05\": 1424,\n",
    "              \"swv06\": 1678,\n",
    "              \"swv07\": 1600,\n",
    "              \"swv08\": 1763,\n",
    "              \"swv09\": 1661,\n",
    "              \"swv10\": 1767,\n",
    "              \"swv11\": 2991,\n",
    "              \"swv12\": 3003,\n",
    "              \"swv13\": 3104,\n",
    "              \"swv14\": 2968,\n",
    "              \"swv15\": 2904,\n",
    "              \"swv16\": 2924,\n",
    "              \"swv17\": 2794,\n",
    "              \"swv18\": 2852,\n",
    "              \"swv19\": 2843,\n",
    "              \"swv20\": 2823,\n",
    "              \"yn1\": 885,\n",
    "              \"yn2\": 909,\n",
    "              \"yn3\": 892,\n",
    "              \"yn4\": 968,\n",
    "              \"ta01\": 1231,\n",
    "              \"ta02\": 1244,\n",
    "              \"ta03\": 1218,\n",
    "              \"ta04\": 1175,\n",
    "              \"ta05\": 1224,\n",
    "              \"ta06\": 1238,\n",
    "              \"ta07\": 1227,\n",
    "              \"ta08\": 1217,\n",
    "              \"ta09\": 1274,\n",
    "              \"ta10\": 1241,\n",
    "              \"ta11\": 1361,\n",
    "              \"ta12\": 1367,\n",
    "              \"ta13\": 1342,\n",
    "              \"ta14\": 1345,\n",
    "              \"ta15\": 1340,\n",
    "              \"ta16\": 1360,\n",
    "              \"ta17\": 1462,\n",
    "              \"ta18\": 1396,\n",
    "              \"ta19\": 1335,\n",
    "              \"ta20\": 1351,\n",
    "              \"ta21\": 1644,\n",
    "              \"ta22\": 1600,\n",
    "              \"ta23\": 1557,\n",
    "              \"ta24\": 1647,\n",
    "              \"ta25\": 1595,\n",
    "              \"ta26\": 1645,\n",
    "              \"ta27\": 1680,\n",
    "              \"ta28\": 1614,\n",
    "              \"ta29\": 1635,\n",
    "              \"ta30\": 1584,\n",
    "              \"ta31\": 1764,\n",
    "              \"ta32\": 1796,\n",
    "              \"ta33\": 1793,\n",
    "              \"ta34\": 1829,\n",
    "              \"ta35\": 2007,\n",
    "              \"ta36\": 1819,\n",
    "              \"ta37\": 1778,\n",
    "              \"ta38\": 1673,\n",
    "              \"ta39\": 1795,\n",
    "              \"ta40\": 1674,\n",
    "              \"ta41\": 2018,\n",
    "              \"ta42\": 1956,\n",
    "              \"ta43\": 1859,\n",
    "              \"ta44\": 1984,\n",
    "              \"ta45\": 2000,\n",
    "              \"ta46\": 2021,\n",
    "              \"ta47\": 1903,\n",
    "              \"ta48\": 1952,\n",
    "              \"ta49\": 1968,\n",
    "              \"ta50\": 1926,\n",
    "              \"ta51\": 2760,\n",
    "              \"ta52\": 2756,\n",
    "              \"ta53\": 2717,\n",
    "              \"ta54\": 2839,\n",
    "              \"ta55\": 2679,\n",
    "              \"ta56\": 2781,\n",
    "              \"ta57\": 2943,\n",
    "              \"ta58\": 2885,\n",
    "              \"ta59\": 2655,\n",
    "              \"ta60\": 2723,\n",
    "              \"ta61\": 2868,\n",
    "              \"ta62\": 2869,\n",
    "              \"ta63\": 2755,\n",
    "              \"ta64\": 2702,\n",
    "              \"ta65\": 2725,\n",
    "              \"ta66\": 2845,\n",
    "              \"ta67\": 2825,\n",
    "              \"ta68\": 2784,\n",
    "              \"ta69\": 3071,\n",
    "              \"ta70\": 2995,\n",
    "             \"ta79\": 2350}"
   ]
  },
  {
   "cell_type": "code",
   "execution_count": 4,
   "id": "selected-netherlands",
   "metadata": {},
   "outputs": [],
   "source": [
    "import time\n",
    "from tqdm import tqdm\n",
    "import argparse\n",
    "import pandas as pd\n",
    "from datetime import datetime\n",
    "from Solvers.Tabou import TabouSolver\n",
    "from Solvers.Descent import Descent\n",
    "from Solvers.Greedy import GreedySolver\n",
    "from utils.Instance import Instance\n",
    "import matplotlib.pyplot as plt\n",
    "from Descent_2TEST import descent_solv, blocks_from_critic_path,best_neigh\n",
    "\n",
    "DICT_GREEDY = {\n",
    "    'SPT': GreedySolver.greedySPT,\n",
    "    'LRPT': GreedySolver.greedyLRPT,\n",
    "    'EST_SPT': GreedySolver.greedyEST_SPT,\n",
    "    'EST_LRPT': GreedySolver.greedyEST_LRPT\n",
    "}\n",
    "\n",
    "def getvalues(solve, instance, start):\n",
    "    makespan = solve.schedule.makespan()\n",
    "    best = BEST_KNOWN[instance]\n",
    "    ecart = round(100 * (makespan - best) / best, 1)\n",
    "    size = str(solve.instance.numJobs) + \"x\" + str(solve.instance.numTasks)\n",
    "    runtime = time.time() - start\n",
    "\n",
    "    return size, best, round(runtime, 2), makespan, ecart"
   ]
  },
  {
   "cell_type": "code",
   "execution_count": 5,
   "id": "helpful-dancing",
   "metadata": {},
   "outputs": [
    {
     "name": "stdout",
     "output_type": "stream",
     "text": [
      "no improvement\n"
     ]
    }
   ],
   "source": [
    "try:\n",
    "    instance = Instance.fromFile('instances/instances/' + 'ft20')\n",
    "except(FileNotFoundError, IOError, ValueError):\n",
    "        if ValueError:\n",
    "            instance = Instance.fromFile2('instances/instances/' + 'ft20',4)\n",
    "            pass\n",
    "        else:        \n",
    "            print('File not found')\n",
    "        \n",
    "tzz = descent_solv(instance= instance, solution= GreedySolver.greedyEST_LRPT(instance).schedule, plot= False, timeout=8000)"
   ]
  },
  {
   "cell_type": "code",
   "execution_count": 6,
   "id": "substantial-agency",
   "metadata": {},
   "outputs": [
    {
     "data": {
      "text/plain": [
       "(<utils.Result.Result at 0x28ad1df21f0>,\n",
       " <utils.Schedule.Schedule at 0x28ad1d8fe20>)"
      ]
     },
     "execution_count": 6,
     "metadata": {},
     "output_type": "execute_result"
    }
   ],
   "source": [
    "tzz"
   ]
  },
  {
   "cell_type": "code",
   "execution_count": 7,
   "id": "simplified-blind",
   "metadata": {},
   "outputs": [],
   "source": [
    "TIMEOUT = 3600\n",
    "instances = ['aaa1','ft06','ft10','ft20','la30','ta40']\n",
    "index = ['instance', 'size', 'best', 'runtime', 'makespan', 'ecart']\n",
    "results = {}\n",
    "Res = {}"
   ]
  },
  {
   "cell_type": "code",
   "execution_count": 8,
   "id": "given-affairs",
   "metadata": {},
   "outputs": [
    {
     "name": "stderr",
     "output_type": "stream",
     "text": [
      "Processing ft10:   0%|                                                                           | 0/6 [00:00<?, ?it/s]"
     ]
    },
    {
     "name": "stdout",
     "output_type": "stream",
     "text": [
      "no improvement\n",
      "no improvement\n",
      "no improvement\n"
     ]
    },
    {
     "name": "stderr",
     "output_type": "stream",
     "text": [
      "Processing ft20:  50%|█████████████████████████████████▌                                 | 3/6 [00:00<00:00, 10.95it/s]"
     ]
    },
    {
     "name": "stdout",
     "output_type": "stream",
     "text": [
      "no improvement\n"
     ]
    },
    {
     "name": "stderr",
     "output_type": "stream",
     "text": [
      "\r",
      "Processing la30:  50%|█████████████████████████████████▌                                 | 3/6 [00:00<00:00, 10.95it/s]"
     ]
    },
    {
     "name": "stdout",
     "output_type": "stream",
     "text": [
      "no improvement\n"
     ]
    },
    {
     "name": "stderr",
     "output_type": "stream",
     "text": [
      "Processing ta40:  83%|███████████████████████████████████████████████████████▊           | 5/6 [00:01<00:00,  3.13it/s]"
     ]
    },
    {
     "name": "stdout",
     "output_type": "stream",
     "text": [
      "no improvement\n"
     ]
    },
    {
     "name": "stderr",
     "output_type": "stream",
     "text": [
      "Processing ta40: 100%|███████████████████████████████████████████████████████████████████| 6/6 [00:03<00:00,  1.50it/s]\n"
     ]
    }
   ],
   "source": [
    "pbar = tqdm(instances)\n",
    "for inst in pbar:\n",
    "    pbar.set_description(\"Processing %s\" % inst)\n",
    "    try:\n",
    "        instance = Instance.fromFile('instances/instances/' + inst)\n",
    "    except(FileNotFoundError, IOError, ValueError):\n",
    "        if ValueError:\n",
    "            instance = Instance.fromFile2('instances/instances/' + inst,4)\n",
    "            pass\n",
    "        else:        \n",
    "            print('File not found')\n",
    "        \n",
    "    for solver in DICT_GREEDY.keys():\n",
    "        start = time.time()\n",
    "        sol = DICT_GREEDY[solver](instance=instance)\n",
    "        values_lrpt = getvalues(sol, inst, start)\n",
    "        results[solver] = [inst, values_lrpt[0], values_lrpt[1], values_lrpt[2], values_lrpt[3],\n",
    "                                        values_lrpt[4]]\n",
    "\n",
    "    start = time.time()\n",
    "    sol = descent_solv(instance= instance, solution= GreedySolver.greedyEST_LRPT(instance).schedule, plot= False, timeout=TIMEOUT)\n",
    "    values_descent = getvalues(sol[0], inst, start)\n",
    "    results['descent'] = [inst, values_descent[0], values_descent[1], values_descent[2],\n",
    "                                       values_descent[3], values_descent[4]]\n",
    "\n",
    "    start = time.time()\n",
    "    sol = TabouSolver.solve(instance=instance, timeout=TIMEOUT)\n",
    "    values_taboo = getvalues(sol, inst, start)\n",
    "    results['tabou'] = [inst, values_taboo[0], values_taboo[1], values_taboo[2], values_taboo[3],\n",
    "                                     values_taboo[4]]\n",
    "\n",
    "    Res[inst] = pd.DataFrame(results, index=index)\n",
    "    results = {}\n",
    "#results_df = pd.DataFrame(results, index=index)"
   ]
  },
  {
   "cell_type": "code",
   "execution_count": 9,
   "id": "consolidated-mathematics",
   "metadata": {},
   "outputs": [
    {
     "data": {
      "text/plain": [
       "{'aaa1':            SPT  LRPT EST_SPT EST_LRPT descent tabou\n",
       " instance  aaa1  aaa1    aaa1     aaa1    aaa1  aaa1\n",
       " size       2x3   2x3     2x3      2x3     2x3   2x3\n",
       " best        11    11      11       11      11    11\n",
       " runtime      0     0       0        0       0  0.01\n",
       " makespan    16    11      12       12      11    12\n",
       " ecart     45.5     0     9.1      9.1       0   9.1,\n",
       " 'ft06':            SPT  LRPT EST_SPT EST_LRPT descent tabou\n",
       " instance  ft06  ft06    ft06     ft06    ft06  ft06\n",
       " size       6x6   6x6     6x6      6x6     6x6   6x6\n",
       " best        55    55      55       55      55    55\n",
       " runtime      0     0       0        0    0.01  0.03\n",
       " makespan   108    74      77       63      61    63\n",
       " ecart     96.4  34.5      40     14.5    10.9  14.5,\n",
       " 'ft10':             SPT   LRPT EST_SPT EST_LRPT descent  tabou\n",
       " instance   ft10   ft10    ft10     ft10    ft10   ft10\n",
       " size      10x10  10x10   10x10    10x10   10x10  10x10\n",
       " best        930    930     930      930     930    930\n",
       " runtime       0      0       0        0    0.03   0.16\n",
       " makespan   2569   1289    2330     1259    1259   1259\n",
       " ecart     176.2   38.6   150.5     35.4    35.4   35.4,\n",
       " 'ft20':             SPT  LRPT EST_SPT EST_LRPT descent tabou\n",
       " instance   ft20  ft20    ft20     ft20    ft20  ft20\n",
       " size       20x5  20x5    20x5     20x5    20x5  20x5\n",
       " best       1165  1165    1165     1165    1165  1165\n",
       " runtime       0     0       0        0    0.19  0.29\n",
       " makespan   2765  1955    1662     1844    1699  1844\n",
       " ecart     137.3  67.8    42.7     58.3    45.8  58.3,\n",
       " 'la30':             SPT   LRPT EST_SPT EST_LRPT descent  tabou\n",
       " instance   la30   la30    la30     la30    la30   la30\n",
       " size      20x10  20x10   20x10    20x10   20x10  20x10\n",
       " best       1355   1355    1355     1355    1355   1355\n",
       " runtime       0      0    0.01     0.01    0.29   0.31\n",
       " makespan   5409   1944    2533     1866    1790   1866\n",
       " ecart     299.2   43.5    86.9     37.7    32.1   37.7,\n",
       " 'ta40':             SPT   LRPT EST_SPT EST_LRPT descent  tabou\n",
       " instance   ta40   ta40    ta40     ta40    ta40   ta40\n",
       " size      30x15  30x15   30x15    30x15   30x15  30x15\n",
       " best       1674   1674    1674     1674    1674   1674\n",
       " runtime    0.01   0.01    0.02     0.02    1.58   0.96\n",
       " makespan  10411   2940    4294     2917    2722   2917\n",
       " ecart     521.9   75.6   156.5     74.3    62.6   74.3}"
      ]
     },
     "execution_count": 9,
     "metadata": {},
     "output_type": "execute_result"
    }
   ],
   "source": [
    "Res"
   ]
  },
  {
   "cell_type": "code",
   "execution_count": 73,
   "id": "specified-trace",
   "metadata": {},
   "outputs": [
    {
     "data": {
      "text/plain": [
       "{'aaa1': 16,\n",
       " 'ft06': 108,\n",
       " 'ft10': 2569,\n",
       " 'ft20': 2765,\n",
       " 'la30': 5409,\n",
       " 'ta40': 10411}"
      ]
     },
     "execution_count": 73,
     "metadata": {},
     "output_type": "execute_result"
    }
   ],
   "source": [
    "ress"
   ]
  },
  {
   "cell_type": "code",
   "execution_count": 74,
   "id": "described-entrance",
   "metadata": {},
   "outputs": [],
   "source": [
    "besties = {}\n",
    "\n"
   ]
  },
  {
   "cell_type": "code",
   "execution_count": 75,
   "id": "excess-psychology",
   "metadata": {},
   "outputs": [
    {
     "data": {
      "text/plain": [
       "{'aaa1': 16,\n",
       " 'ft06': 108,\n",
       " 'ft10': 2569,\n",
       " 'ft20': 2765,\n",
       " 'la30': 5409,\n",
       " 'ta40': 10411}"
      ]
     },
     "execution_count": 75,
     "metadata": {},
     "output_type": "execute_result"
    }
   ],
   "source": [
    "ress"
   ]
  },
  {
   "cell_type": "code",
   "execution_count": 76,
   "id": "tribal-visibility",
   "metadata": {},
   "outputs": [
    {
     "data": {
      "text/plain": [
       "{}"
      ]
     },
     "execution_count": 76,
     "metadata": {},
     "output_type": "execute_result"
    }
   ],
   "source": [
    "besties"
   ]
  },
  {
   "cell_type": "code",
   "execution_count": 77,
   "id": "mighty-healthcare",
   "metadata": {},
   "outputs": [],
   "source": [
    "for inst in instances:\n",
    "    besties[inst] = BEST_KNOWN[inst]"
   ]
  },
  {
   "cell_type": "code",
   "execution_count": 78,
   "id": "deadly-personality",
   "metadata": {},
   "outputs": [],
   "source": [
    "plt.rcParams['figure.figsize'] = (8.0, 10.0)\n"
   ]
  },
  {
   "cell_type": "code",
   "execution_count": 79,
   "id": "corresponding-airline",
   "metadata": {},
   "outputs": [
    {
     "data": {
      "text/plain": [
       "<Figure size 720x360 with 0 Axes>"
      ]
     },
     "metadata": {},
     "output_type": "display_data"
    },
    {
     "data": {
      "image/png": "[encoded data removed]",
      "text/plain": [
       "<Figure size 576x432 with 1 Axes>"
      ]
     },
     "metadata": {
      "needs_background": "light"
     },
     "output_type": "display_data"
    }
   ],
   "source": [
    "instances = list(ress.keys())\n",
    "spt_results = list(ress.values())\n",
    "best_results = list(besties.values())\n",
    "fig = plt.figure(figsize = (10, 5))\n",
    "lrpt_results = list(ress2.values())\n",
    "# creating the bar plot\n",
    "\n",
    "#plt.bar(instances, spt_results, color ='red',width = 0.4)\n",
    "#plt.bar(instances, best_results, color ='blue',width = 0.4)\n",
    "\n",
    "width = 0.35  # the width of the bars\n",
    "x = np.arange(len(instances))\n",
    "fig, ax = plt.subplots(figsize=(8,6))\n",
    "rects1 = ax.bar(x - width/2, spt_results, width, label='SPT result')\n",
    "rects2 = ax.bar(x + width/2, best_results, width, label='Best result')\n",
    "    \n",
    "plt.xlabel(\"instances\")\n",
    "plt.ylabel(\"makespan\")\n",
    "plt.grid(which='both')\n",
    "plt.title(\"SPT makespan\")\n",
    "plt.show()"
   ]
  },
  {
   "cell_type": "code",
   "execution_count": 80,
   "id": "optical-cache",
   "metadata": {},
   "outputs": [
    {
     "data": {
      "text/plain": [
       "[11, 55, 930, 1165, 1355, 1674]"
      ]
     },
     "execution_count": 80,
     "metadata": {},
     "output_type": "execute_result"
    }
   ],
   "source": [
    "best_results"
   ]
  },
  {
   "cell_type": "code",
   "execution_count": 103,
   "id": "statutory-norway",
   "metadata": {},
   "outputs": [
    {
     "data": {
      "image/png": "[encoded data removed]",
      "text/plain": [
       "<Figure size 864x576 with 1 Axes>"
      ]
     },
     "metadata": {
      "needs_background": "light"
     },
     "output_type": "display_data"
    }
   ],
   "source": [
    "import numpy as np\n",
    "def plot_bars(labels, descente, gloutonne,title):\n",
    "    \n",
    " \n",
    "    x = np.arange(len(labels))  # the label locations\n",
    "    width = 0.25  # the width of the bars\n",
    "\n",
    "    fig, ax = plt.subplots(figsize=(12,8))\n",
    "    rects3 = ax.bar(x +0.50, est_lrpt_res, width, label='EST_LRPT result', color = 'gold')\n",
    "    rects1 = ax.bar(x , gloutonne, width, label='Tabou result', color = 'crimson')\n",
    "    rects2 = ax.bar(x + 0.25, descente, width, label='Best result', color = 'orangered')\n",
    "\n",
    "\n",
    "    # Add some text for labels, title and custom x-axis tick labels, etc.\n",
    "    ax.set_ylabel('Makespan')\n",
    "    ax.set_title(title)\n",
    "    ax.set_xticks(x)\n",
    "    ax.set_xticklabels(labels)\n",
    "    ax.legend()\n",
    "\n",
    "\n",
    "    def autolabel(rects):\n",
    "        \"\"\"Attach a text label above each bar in *rects*, displaying its height.\"\"\"\n",
    "        for rect in rects:\n",
    "            height = rect.get_height()\n",
    "            ax.annotate('{}'.format(height),\n",
    "                        xy=(rect.get_x() + rect.get_width() / 2, height),\n",
    "                        xytext=(0, 3),  # 3 points vertical offset\n",
    "                        textcoords=\"offset points\",\n",
    "                        ha='center', va='bottom')\n",
    "\n",
    "    autolabel(rects3)\n",
    "    autolabel(rects1)\n",
    "    autolabel(rects2)\n",
    "    fig.tight_layout()\n",
    "\n",
    "    plt.show()\n",
    "    \n",
    "plot_bars(instances, best_results, Makespan_tabou, 'TABOU makespan')"
   ]
  },
  {
   "cell_type": "code",
   "execution_count": 101,
   "id": "peripheral-cookbook",
   "metadata": {},
   "outputs": [
    {
     "data": {
      "image/png": "[encoded data removed]",
      "text/plain": [
       "<Figure size 864x576 with 1 Axes>"
      ]
     },
     "metadata": {
      "needs_background": "light"
     },
     "output_type": "display_data"
    }
   ],
   "source": [
    "import numpy as np\n",
    "def plot_bars(labels, descente, gloutonne,title):\n",
    "    \n",
    " \n",
    "    x = np.arange(len(labels))  # the label locations\n",
    "    width = 0.25  # the width of the bars\n",
    "\n",
    "    fig, ax = plt.subplots(figsize=(12,8))\n",
    "    rects3 = ax.bar(x +0.50, est_lrpt_res, width, label='EST_LRPT result', color = 'gold')\n",
    "    rects1 = ax.bar(x , gloutonne, width, label='DESCENT result', color = 'crimson')\n",
    "    rects2 = ax.bar(x + 0.25, descente, width, label='Best result', color = 'orangered')\n",
    "\n",
    "\n",
    "    # Add some text for labels, title and custom x-axis tick labels, etc.\n",
    "    ax.set_ylabel('Makespan')\n",
    "    ax.set_title(title)\n",
    "    ax.set_xticks(x)\n",
    "    ax.set_xticklabels(labels)\n",
    "    ax.legend()\n",
    "\n",
    "\n",
    "    def autolabel(rects):\n",
    "        \"\"\"Attach a text label above each bar in *rects*, displaying its height.\"\"\"\n",
    "        for rect in rects:\n",
    "            height = rect.get_height()\n",
    "            ax.annotate('{}'.format(height),\n",
    "                        xy=(rect.get_x() + rect.get_width() / 2, height),\n",
    "                        xytext=(0, 3),  # 3 points vertical offset\n",
    "                        textcoords=\"offset points\",\n",
    "                        ha='center', va='bottom')\n",
    "\n",
    "    autolabel(rects3)\n",
    "    autolabel(rects1)\n",
    "    autolabel(rects2)\n",
    "    fig.tight_layout()\n",
    "\n",
    "    plt.show()\n",
    "    \n",
    "plot_bars(instances, best_results, descent_t, 'DESCENT makespan')"
   ]
  },
  {
   "cell_type": "code",
   "execution_count": 82,
   "id": "earned-fitting",
   "metadata": {
    "scrolled": false
   },
   "outputs": [
    {
     "data": {
      "image/png": "[encoded data removed]",
      "text/plain": [
       "<Figure size 864x576 with 1 Axes>"
      ]
     },
     "metadata": {
      "needs_background": "light"
     },
     "output_type": "display_data"
    }
   ],
   "source": [
    "import numpy as np\n",
    "def plot_bars(labels, descente, gloutonne,title):\n",
    "    \n",
    " \n",
    "    x = np.arange(len(labels))  # the label locations\n",
    "    width = 0.35  # the width of the bars\n",
    "\n",
    "    fig, ax = plt.subplots(figsize=(12,8))\n",
    "    rects1 = ax.bar(x - width/2, gloutonne, width, label='LRPT result', color = 'crimson')\n",
    "    rects2 = ax.bar(x + width/2, descente, width, label='Best result', color = 'orangered')\n",
    "\n",
    "    # Add some text for labels, title and custom x-axis tick labels, etc.\n",
    "    ax.set_ylabel('Makespan')\n",
    "    ax.set_title(title)\n",
    "    ax.set_xticks(x)\n",
    "    ax.set_xticklabels(labels)\n",
    "    ax.legend()\n",
    "\n",
    "\n",
    "    def autolabel(rects):\n",
    "        \"\"\"Attach a text label above each bar in *rects*, displaying its height.\"\"\"\n",
    "        for rect in rects:\n",
    "            height = rect.get_height()\n",
    "            ax.annotate('{}'.format(height),\n",
    "                        xy=(rect.get_x() + rect.get_width() / 2, height),\n",
    "                        xytext=(0, 3),  # 3 points vertical offset\n",
    "                        textcoords=\"offset points\",\n",
    "                        ha='center', va='bottom')\n",
    "\n",
    "\n",
    "    autolabel(rects1)\n",
    "    autolabel(rects2)\n",
    "\n",
    "    fig.tight_layout()\n",
    "\n",
    "    plt.show()\n",
    "    \n",
    "plot_bars(instances, best_results, est_lrpt_res, 'LRPT makespan')"
   ]
  },
  {
   "cell_type": "code",
   "execution_count": 83,
   "id": "placed-albuquerque",
   "metadata": {},
   "outputs": [
    {
     "data": {
      "text/plain": [
       "{'aaa1':            SPT  LRPT EST_SPT EST_LRPT descent tabou\n",
       " instance  aaa1  aaa1    aaa1     aaa1    aaa1  aaa1\n",
       " size       2x3   2x3     2x3      2x3     2x3   2x3\n",
       " best        11    11      11       11      11    11\n",
       " runtime      0     0       0        0       0  0.01\n",
       " makespan    16    11      12       12      12    12\n",
       " ecart     45.5     0     9.1      9.1     9.1   9.1,\n",
       " 'ft06':            SPT  LRPT EST_SPT EST_LRPT descent tabou\n",
       " instance  ft06  ft06    ft06     ft06    ft06  ft06\n",
       " size       6x6   6x6     6x6      6x6     6x6   6x6\n",
       " best        55    55      55       55      55    55\n",
       " runtime      0     0       0        0       0  0.04\n",
       " makespan   108    74      77       63      63    63\n",
       " ecart     96.4  34.5      40     14.5    14.5  14.5,\n",
       " 'ft10':             SPT   LRPT EST_SPT EST_LRPT descent  tabou\n",
       " instance   ft10   ft10    ft10     ft10    ft10   ft10\n",
       " size      10x10  10x10   10x10    10x10   10x10  10x10\n",
       " best        930    930     930      930     930    930\n",
       " runtime       0      0       0        0    0.01   0.14\n",
       " makespan   2569   1289    2330     1259    1259   1259\n",
       " ecart     176.2   38.6   150.5     35.4    35.4   35.4,\n",
       " 'ft20':             SPT  LRPT EST_SPT EST_LRPT descent tabou\n",
       " instance   ft20  ft20    ft20     ft20    ft20  ft20\n",
       " size       20x5  20x5    20x5     20x5    20x5  20x5\n",
       " best       1165  1165    1165     1165    1165  1165\n",
       " runtime       0     0       0        0    0.01  0.23\n",
       " makespan   2765  1955    1662     1844    1844  1844\n",
       " ecart     137.3  67.8    42.7     58.3    58.3  58.3,\n",
       " 'la30':             SPT   LRPT EST_SPT EST_LRPT descent  tabou\n",
       " instance   la30   la30    la30     la30    la30   la30\n",
       " size      20x10  20x10   20x10    20x10   20x10  20x10\n",
       " best       1355   1355    1355     1355    1355   1355\n",
       " runtime       0      0       0     0.01    0.01    0.3\n",
       " makespan   5409   1944    2533     1866    1866   1866\n",
       " ecart     299.2   43.5    86.9     37.7    37.7   37.7,\n",
       " 'ta40':             SPT   LRPT EST_SPT EST_LRPT descent  tabou\n",
       " instance   ta40   ta40    ta40     ta40    ta40   ta40\n",
       " size      30x15  30x15   30x15    30x15   30x15  30x15\n",
       " best       1674   1674    1674     1674    1674   1674\n",
       " runtime    0.01   0.01    0.02     0.02    0.04   0.83\n",
       " makespan  10411   2940    4294     2917    2917   2917\n",
       " ecart     521.9   75.6   156.5     74.3    74.3   74.3}"
      ]
     },
     "execution_count": 83,
     "metadata": {},
     "output_type": "execute_result"
    }
   ],
   "source": [
    "Res"
   ]
  },
  {
   "cell_type": "code",
   "execution_count": 59,
   "id": "leading-error",
   "metadata": {},
   "outputs": [
    {
     "data": {
      "text/plain": [
       "{'aaa1':            SPT  LRPT EST_SPT EST_LRPT descent tabou\n",
       " instance  aaa1  aaa1    aaa1     aaa1    aaa1  aaa1\n",
       " size       2x3   2x3     2x3      2x3     2x3   2x3\n",
       " best        11    11      11       11      11    11\n",
       " runtime      0     0       0        0       0  0.01\n",
       " makespan    16    11      12       12      12    12\n",
       " ecart     45.5     0     9.1      9.1     9.1   9.1,\n",
       " 'ft06':            SPT  LRPT EST_SPT EST_LRPT descent tabou\n",
       " instance  ft06  ft06    ft06     ft06    ft06  ft06\n",
       " size       6x6   6x6     6x6      6x6     6x6   6x6\n",
       " best        55    55      55       55      55    55\n",
       " runtime      0     0       0        0       0  0.04\n",
       " makespan   108    74      77       63      63    63\n",
       " ecart     96.4  34.5      40     14.5    14.5  14.5,\n",
       " 'ft10':             SPT   LRPT EST_SPT EST_LRPT descent  tabou\n",
       " instance   ft10   ft10    ft10     ft10    ft10   ft10\n",
       " size      10x10  10x10   10x10    10x10   10x10  10x10\n",
       " best        930    930     930      930     930    930\n",
       " runtime       0      0       0        0    0.01   0.14\n",
       " makespan   2569   1289    2330     1259    1259   1259\n",
       " ecart     176.2   38.6   150.5     35.4    35.4   35.4,\n",
       " 'ft20':             SPT  LRPT EST_SPT EST_LRPT descent tabou\n",
       " instance   ft20  ft20    ft20     ft20    ft20  ft20\n",
       " size       20x5  20x5    20x5     20x5    20x5  20x5\n",
       " best       1165  1165    1165     1165    1165  1165\n",
       " runtime       0     0       0        0    0.01  0.23\n",
       " makespan   2765  1955    1662     1844    1844  1844\n",
       " ecart     137.3  67.8    42.7     58.3    58.3  58.3,\n",
       " 'la30':             SPT   LRPT EST_SPT EST_LRPT descent  tabou\n",
       " instance   la30   la30    la30     la30    la30   la30\n",
       " size      20x10  20x10   20x10    20x10   20x10  20x10\n",
       " best       1355   1355    1355     1355    1355   1355\n",
       " runtime       0      0       0     0.01    0.01    0.3\n",
       " makespan   5409   1944    2533     1866    1866   1866\n",
       " ecart     299.2   43.5    86.9     37.7    37.7   37.7,\n",
       " 'ta40':             SPT   LRPT EST_SPT EST_LRPT descent  tabou\n",
       " instance   ta40   ta40    ta40     ta40    ta40   ta40\n",
       " size      30x15  30x15   30x15    30x15   30x15  30x15\n",
       " best       1674   1674    1674     1674    1674   1674\n",
       " runtime    0.01   0.01    0.02     0.02    0.04   0.83\n",
       " makespan  10411   2940    4294     2917    2917   2917\n",
       " ecart     521.9   75.6   156.5     74.3    74.3   74.3}"
      ]
     },
     "execution_count": 59,
     "metadata": {},
     "output_type": "execute_result"
    }
   ],
   "source": [
    "Res"
   ]
  },
  {
   "cell_type": "code",
   "execution_count": 60,
   "id": "afraid-brazilian",
   "metadata": {},
   "outputs": [
    {
     "data": {
      "text/html": [
       "<div>\n",
       "<style scoped>\n",
       "    .dataframe tbody tr th:only-of-type {\n",
       "        vertical-align: middle;\n",
       "    }\n",
       "\n",
       "    .dataframe tbody tr th {\n",
       "        vertical-align: top;\n",
       "    }\n",
       "\n",
       "    .dataframe thead th {\n",
       "        text-align: right;\n",
       "    }\n",
       "</style>\n",
       "<table border=\"1\" class=\"dataframe\">\n",
       "  <thead>\n",
       "    <tr style=\"text-align: right;\">\n",
       "      <th></th>\n",
       "      <th>SPT</th>\n",
       "      <th>LRPT</th>\n",
       "      <th>EST_SPT</th>\n",
       "      <th>EST_LRPT</th>\n",
       "      <th>descent</th>\n",
       "      <th>tabou</th>\n",
       "    </tr>\n",
       "  </thead>\n",
       "  <tbody>\n",
       "    <tr>\n",
       "      <th>instance</th>\n",
       "      <td>ft20</td>\n",
       "      <td>ft20</td>\n",
       "      <td>ft20</td>\n",
       "      <td>ft20</td>\n",
       "      <td>ft20</td>\n",
       "      <td>ft20</td>\n",
       "    </tr>\n",
       "    <tr>\n",
       "      <th>size</th>\n",
       "      <td>20x5</td>\n",
       "      <td>20x5</td>\n",
       "      <td>20x5</td>\n",
       "      <td>20x5</td>\n",
       "      <td>20x5</td>\n",
       "      <td>20x5</td>\n",
       "    </tr>\n",
       "    <tr>\n",
       "      <th>best</th>\n",
       "      <td>1165</td>\n",
       "      <td>1165</td>\n",
       "      <td>1165</td>\n",
       "      <td>1165</td>\n",
       "      <td>1165</td>\n",
       "      <td>1165</td>\n",
       "    </tr>\n",
       "    <tr>\n",
       "      <th>runtime</th>\n",
       "      <td>0</td>\n",
       "      <td>0</td>\n",
       "      <td>0</td>\n",
       "      <td>0</td>\n",
       "      <td>0.01</td>\n",
       "      <td>0.23</td>\n",
       "    </tr>\n",
       "    <tr>\n",
       "      <th>makespan</th>\n",
       "      <td>2765</td>\n",
       "      <td>1955</td>\n",
       "      <td>1662</td>\n",
       "      <td>1844</td>\n",
       "      <td>1844</td>\n",
       "      <td>1844</td>\n",
       "    </tr>\n",
       "    <tr>\n",
       "      <th>ecart</th>\n",
       "      <td>137.3</td>\n",
       "      <td>67.8</td>\n",
       "      <td>42.7</td>\n",
       "      <td>58.3</td>\n",
       "      <td>58.3</td>\n",
       "      <td>58.3</td>\n",
       "    </tr>\n",
       "  </tbody>\n",
       "</table>\n",
       "</div>"
      ],
      "text/plain": [
       "            SPT  LRPT EST_SPT EST_LRPT descent tabou\n",
       "instance   ft20  ft20    ft20     ft20    ft20  ft20\n",
       "size       20x5  20x5    20x5     20x5    20x5  20x5\n",
       "best       1165  1165    1165     1165    1165  1165\n",
       "runtime       0     0       0        0    0.01  0.23\n",
       "makespan   2765  1955    1662     1844    1844  1844\n",
       "ecart     137.3  67.8    42.7     58.3    58.3  58.3"
      ]
     },
     "execution_count": 60,
     "metadata": {},
     "output_type": "execute_result"
    }
   ],
   "source": [
    "Res['ft20']"
   ]
  },
  {
   "cell_type": "code",
   "execution_count": 61,
   "id": "danish-bumper",
   "metadata": {},
   "outputs": [],
   "source": [
    "ecart_lrpt = [Res[k].LRPT.values[5] for k in Res.keys()]\n",
    "ecart_spt = [Res[k].SPT.values[5] for k in Res.keys()]\n",
    "ecart_est_spt = [Res[k].EST_SPT.values[5] for k in Res.keys()]\n",
    "ecart_est_lrpt = [Res[k].EST_LRPT.values[5] for k in Res.keys()]"
   ]
  },
  {
   "cell_type": "markdown",
   "id": "functional-hacker",
   "metadata": {},
   "source": []
  },
  {
   "cell_type": "code",
   "execution_count": null,
   "id": "moved-circulation",
   "metadata": {},
   "outputs": [],
   "source": []
  },
  {
   "cell_type": "code",
   "execution_count": 113,
   "id": "packed-dollar",
   "metadata": {},
   "outputs": [
    {
     "name": "stdout",
     "output_type": "stream",
     "text": [
      "[0.0, 0.01, 0.05, 0.17, 0.36, 1.91]\n",
      "[0.01, 0.05, 0.15, 0.23, 0.29, 0.81]\n",
      "[0.0, 0.0, 0.0, 0.01, 0.01, 0.02]\n"
     ]
    }
   ],
   "source": [
    "#Runtime\n",
    "\n",
    "runtime_descent= [Res[k].descent.values[3] for k in Res.keys()]\n",
    "runtime_tabou = [Res[k].tabou.values[3] for k in Res.keys()]\n",
    "runtime_est_lrpt = [Res[k].EST_LRPT.values[3] for k in Res.keys()]\n",
    "\n",
    "print(runtime_descent)\n",
    "print(runtime_tabou)\n",
    "print(runtime_est_lrpt)"
   ]
  },
  {
   "cell_type": "code",
   "execution_count": 62,
   "id": "prime-orange",
   "metadata": {},
   "outputs": [
    {
     "data": {
      "text/plain": [
       "dict_keys(['aaa1', 'ft06', 'ft10', 'ft20', 'la30', 'ta40'])"
      ]
     },
     "execution_count": 62,
     "metadata": {},
     "output_type": "execute_result"
    }
   ],
   "source": [
    "Res.keys()"
   ]
  },
  {
   "cell_type": "code",
   "execution_count": 63,
   "id": "established-roulette",
   "metadata": {},
   "outputs": [],
   "source": [
    "est_spt_res =  [Res[k].EST_SPT.values[4] for k in Res.keys()]\n",
    "est_lrpt_res =  [Res[k].EST_LRPT.values[4] for k in Res.keys()]\n",
    "spt_res =  [Res[k].SPT.values[4] for k in Res.keys()]\n",
    "lrpt_res =  [Res[k].LRPT.values[4] for k in Res.keys()]"
   ]
  },
  {
   "cell_type": "code",
   "execution_count": 64,
   "id": "impaired-occasions",
   "metadata": {},
   "outputs": [],
   "source": [
    "est_spt_res =  [Res[k].EST_SPT.values[4] for k in Res.keys()]"
   ]
  },
  {
   "cell_type": "code",
   "execution_count": 90,
   "id": "external-auckland",
   "metadata": {},
   "outputs": [],
   "source": [
    "descent_t =  [Res[k].descent.values[4] for k in Res.keys()]"
   ]
  },
  {
   "cell_type": "code",
   "execution_count": 91,
   "id": "retired-wagner",
   "metadata": {},
   "outputs": [
    {
     "data": {
      "text/plain": [
       "[11, 61, 1259, 1699, 1790, 2722]"
      ]
     },
     "execution_count": 91,
     "metadata": {},
     "output_type": "execute_result"
    }
   ],
   "source": [
    "descent_t"
   ]
  },
  {
   "cell_type": "code",
   "execution_count": 67,
   "id": "entitled-greeting",
   "metadata": {},
   "outputs": [
    {
     "data": {
      "text/plain": [
       "[16, 108, 2569, 2765, 5409, 10411]"
      ]
     },
     "execution_count": 67,
     "metadata": {},
     "output_type": "execute_result"
    }
   ],
   "source": [
    "spt_res"
   ]
  },
  {
   "cell_type": "code",
   "execution_count": 68,
   "id": "collected-baghdad",
   "metadata": {},
   "outputs": [
    {
     "data": {
      "text/plain": [
       "[12, 63, 1259, 1844, 1866, 2917]"
      ]
     },
     "execution_count": 68,
     "metadata": {},
     "output_type": "execute_result"
    }
   ],
   "source": [
    "est_lrpt_res"
   ]
  },
  {
   "cell_type": "code",
   "execution_count": 69,
   "id": "stock-tomato",
   "metadata": {},
   "outputs": [
    {
     "data": {
      "text/plain": [
       "[45.5, 96.4, 176.2, 137.3, 299.2, 521.9]"
      ]
     },
     "execution_count": 69,
     "metadata": {},
     "output_type": "execute_result"
    }
   ],
   "source": [
    "ecart_spt"
   ]
  },
  {
   "cell_type": "code",
   "execution_count": 114,
   "id": "following-summary",
   "metadata": {},
   "outputs": [
    {
     "data": {
      "image/png": "[encoded data removed]",
      "text/plain": [
       "<Figure size 576x720 with 1 Axes>"
      ]
     },
     "metadata": {
      "needs_background": "light"
     },
     "output_type": "display_data"
    }
   ],
   "source": [
    "plt.plot(instances,runtime_descent,'-o', label='runtime descent')\n",
    "plt.plot(instances,runtime_tabou,'-o', label='runtime Tabou')\n",
    "plt.plot(instances,runtime_est_lrpt,'-o', label='runtime est_lrpt')\n",
    "#plt.plot(instances,ecart_est_lrpt,'-o', label='ecart EST_LRPT')\n",
    "\n",
    "plt.title(\"ecart\")\n",
    "plt.legend()\n",
    "plt.grid(which='both')\n",
    "plt.show()"
   ]
  },
  {
   "cell_type": "code",
   "execution_count": 70,
   "id": "figured-chorus",
   "metadata": {},
   "outputs": [
    {
     "data": {
      "image/png": "[encoded data removed]",
      "text/plain": [
       "<Figure size 576x720 with 1 Axes>"
      ]
     },
     "metadata": {
      "needs_background": "light"
     },
     "output_type": "display_data"
    }
   ],
   "source": [
    "plt.plot(instances,ecart_spt,'-o', label='ecart SPT')\n",
    "plt.plot(instances,ecart_est_spt,'-o', label='ecart EST_SPT')\n",
    "plt.plot(instances,ecart_lrpt,'-o', label='ecart LRPT')\n",
    "plt.plot(instances,ecart_est_lrpt,'-o', label='ecart EST_LRPT')\n",
    "\n",
    "plt.title(\"ecart\")\n",
    "plt.legend()\n",
    "plt.grid(which='both')\n",
    "plt.show()"
   ]
  },
  {
   "cell_type": "code",
   "execution_count": 71,
   "id": "light-database",
   "metadata": {},
   "outputs": [],
   "source": [
    "spt_res = [16,108,2569,2765,5409,10411]\n",
    "lrpt_res = [11,74,1289,1955,1944,2940]\n",
    "ress = {}\n",
    "ress2 = {}\n",
    "for inst,res in zip(instances, spt_res):\n",
    "    ress[inst] = res\n",
    "    \n",
    "for inst,res in zip(instances, lrpt_res):\n",
    "    ress2[inst] = res"
   ]
  },
  {
   "cell_type": "code",
   "execution_count": 72,
   "id": "divine-david",
   "metadata": {},
   "outputs": [],
   "source": [
    "Res_descent = {}\n"
   ]
  },
  {
   "cell_type": "code",
   "execution_count": 22,
   "id": "temporal-truth",
   "metadata": {},
   "outputs": [
    {
     "data": {
      "image/png": "[encoded data removed]",
      "text/plain": [
       "<Figure size 576x720 with 1 Axes>"
      ]
     },
     "metadata": {
      "needs_background": "light"
     },
     "output_type": "display_data"
    }
   ],
   "source": [
    "Res['ft20'].T.makespan.plot.bar(legend=True,)\n",
    "plt.show()"
   ]
  },
  {
   "cell_type": "code",
   "execution_count": 23,
   "id": "amazing-progressive",
   "metadata": {},
   "outputs": [
    {
     "ename": "KeyError",
     "evalue": "'ta79'",
     "output_type": "error",
     "traceback": [
      "\u001b[1;31m---------------------------------------------------------------------------\u001b[0m",
      "\u001b[1;31mKeyError\u001b[0m                                  Traceback (most recent call last)",
      "\u001b[1;32m<ipython-input-23-8c7f0d9aae24>\u001b[0m in \u001b[0;36m<module>\u001b[1;34m\u001b[0m\n\u001b[1;32m----> 1\u001b[1;33m \u001b[0mRes\u001b[0m\u001b[1;33m[\u001b[0m\u001b[1;34m'ta79'\u001b[0m\u001b[1;33m]\u001b[0m\u001b[1;33m.\u001b[0m\u001b[0mT\u001b[0m\u001b[1;33m.\u001b[0m\u001b[0mmakespan\u001b[0m\u001b[1;33m.\u001b[0m\u001b[0mplot\u001b[0m\u001b[1;33m.\u001b[0m\u001b[0mbar\u001b[0m\u001b[1;33m(\u001b[0m\u001b[0mlegend\u001b[0m\u001b[1;33m=\u001b[0m\u001b[1;32mTrue\u001b[0m\u001b[1;33m,\u001b[0m\u001b[1;33m)\u001b[0m\u001b[1;33m\u001b[0m\u001b[1;33m\u001b[0m\u001b[0m\n\u001b[0m\u001b[0;32m      2\u001b[0m \u001b[0mplt\u001b[0m\u001b[1;33m.\u001b[0m\u001b[0mshow\u001b[0m\u001b[1;33m(\u001b[0m\u001b[1;33m)\u001b[0m\u001b[1;33m\u001b[0m\u001b[1;33m\u001b[0m\u001b[0m\n",
      "\u001b[1;31mKeyError\u001b[0m: 'ta79'"
     ]
    }
   ],
   "source": [
    "Res['ta79'].T.makespan.plot.bar(legend=True,)\n",
    "plt.show()"
   ]
  },
  {
   "cell_type": "code",
   "execution_count": 18,
   "id": "genetic-margin",
   "metadata": {},
   "outputs": [
    {
     "data": {
      "text/plain": [
       "SPT         2765\n",
       "LRPT        1955\n",
       "EST_SPT     1662\n",
       "EST_LRPT    1844\n",
       "descent     1844\n",
       "tabou       1844\n",
       "Name: makespan, dtype: object"
      ]
     },
     "execution_count": 18,
     "metadata": {},
     "output_type": "execute_result"
    }
   ],
   "source": [
    "Res['ft20'].T.makespan"
   ]
  },
  {
   "cell_type": "code",
   "execution_count": 58,
   "id": "german-vinyl",
   "metadata": {},
   "outputs": [
    {
     "name": "stdout",
     "output_type": "stream",
     "text": [
      "no improvement\n"
     ]
    }
   ],
   "source": [
    "from Descent_2TEST import blocks_from_critic_path, sol_gen_voisin, return_all_negh, best_neigh, descent_solv\n",
    "\n",
    "instance = Instance.fromFile('instances/ft20')\n",
    "sol = GreedySolver.greedyEST_LRPT(instance=instance)\n",
    "\n",
    "tzz = descent_solv(instance= instance, solution= sol.schedule, plot= False, timeout=8000)\n"
   ]
  },
  {
   "cell_type": "code",
   "execution_count": 41,
   "id": "buried-password",
   "metadata": {},
   "outputs": [
    {
     "name": "stdout",
     "output_type": "stream",
     "text": [
      "2917\n",
      "1699\n"
     ]
    }
   ],
   "source": [
    "print(sol.schedule.makespan())\n",
    "print(tzz[0].schedule.makespan())"
   ]
  },
  {
   "cell_type": "code",
   "execution_count": null,
   "id": "australian-antique",
   "metadata": {},
   "outputs": [],
   "source": [
    "from utils.RessourceOrder import RessourceOrder\n"
   ]
  },
  {
   "cell_type": "code",
   "execution_count": 42,
   "id": "mediterranean-boost",
   "metadata": {},
   "outputs": [],
   "source": [
    "ress = RessourceOrder(instance= tzz[0].schedule)"
   ]
  },
  {
   "cell_type": "code",
   "execution_count": 85,
   "id": "bearing-wallace",
   "metadata": {},
   "outputs": [
    {
     "data": {
      "text/plain": [
       "{'aaa1': 16,\n",
       " 'ft06': 108,\n",
       " 'ft10': 2569,\n",
       " 'ft20': 2765,\n",
       " 'la30': 5409,\n",
       " 'ta40': 10411}"
      ]
     },
     "execution_count": 85,
     "metadata": {},
     "output_type": "execute_result"
    }
   ],
   "source": [
    "ress"
   ]
  },
  {
   "cell_type": "code",
   "execution_count": 43,
   "id": "acknowledged-twist",
   "metadata": {},
   "outputs": [
    {
     "data": {
      "text/plain": [
       "True"
      ]
     },
     "execution_count": 43,
     "metadata": {},
     "output_type": "execute_result"
    }
   ],
   "source": [
    "tzz[0].schedule.isValid()"
   ]
  },
  {
   "cell_type": "code",
   "execution_count": 86,
   "id": "complex-daughter",
   "metadata": {},
   "outputs": [
    {
     "data": {
      "text/plain": [
       "{'aaa1':            SPT  LRPT EST_SPT EST_LRPT descent tabou\n",
       " instance  aaa1  aaa1    aaa1     aaa1    aaa1  aaa1\n",
       " size       2x3   2x3     2x3      2x3     2x3   2x3\n",
       " best        11    11      11       11      11    11\n",
       " runtime      0     0       0        0       0  0.01\n",
       " makespan    16    11      12       12      12    12\n",
       " ecart     45.5     0     9.1      9.1     9.1   9.1,\n",
       " 'ft06':            SPT  LRPT EST_SPT EST_LRPT descent tabou\n",
       " instance  ft06  ft06    ft06     ft06    ft06  ft06\n",
       " size       6x6   6x6     6x6      6x6     6x6   6x6\n",
       " best        55    55      55       55      55    55\n",
       " runtime      0     0       0        0       0  0.04\n",
       " makespan   108    74      77       63      63    63\n",
       " ecart     96.4  34.5      40     14.5    14.5  14.5,\n",
       " 'ft10':             SPT   LRPT EST_SPT EST_LRPT descent  tabou\n",
       " instance   ft10   ft10    ft10     ft10    ft10   ft10\n",
       " size      10x10  10x10   10x10    10x10   10x10  10x10\n",
       " best        930    930     930      930     930    930\n",
       " runtime       0      0       0        0    0.01   0.14\n",
       " makespan   2569   1289    2330     1259    1259   1259\n",
       " ecart     176.2   38.6   150.5     35.4    35.4   35.4,\n",
       " 'ft20':             SPT  LRPT EST_SPT EST_LRPT descent tabou\n",
       " instance   ft20  ft20    ft20     ft20    ft20  ft20\n",
       " size       20x5  20x5    20x5     20x5    20x5  20x5\n",
       " best       1165  1165    1165     1165    1165  1165\n",
       " runtime       0     0       0        0    0.01  0.23\n",
       " makespan   2765  1955    1662     1844    1844  1844\n",
       " ecart     137.3  67.8    42.7     58.3    58.3  58.3,\n",
       " 'la30':             SPT   LRPT EST_SPT EST_LRPT descent  tabou\n",
       " instance   la30   la30    la30     la30    la30   la30\n",
       " size      20x10  20x10   20x10    20x10   20x10  20x10\n",
       " best       1355   1355    1355     1355    1355   1355\n",
       " runtime       0      0       0     0.01    0.01    0.3\n",
       " makespan   5409   1944    2533     1866    1866   1866\n",
       " ecart     299.2   43.5    86.9     37.7    37.7   37.7,\n",
       " 'ta40':             SPT   LRPT EST_SPT EST_LRPT descent  tabou\n",
       " instance   ta40   ta40    ta40     ta40    ta40   ta40\n",
       " size      30x15  30x15   30x15    30x15   30x15  30x15\n",
       " best       1674   1674    1674     1674    1674   1674\n",
       " runtime    0.01   0.01    0.02     0.02    0.04   0.83\n",
       " makespan  10411   2940    4294     2917    2917   2917\n",
       " ecart     521.9   75.6   156.5     74.3    74.3   74.3}"
      ]
     },
     "execution_count": 86,
     "metadata": {},
     "output_type": "execute_result"
    }
   ],
   "source": [
    "Res"
   ]
  },
  {
   "cell_type": "markdown",
   "id": "developing-belief",
   "metadata": {},
   "source": [
    "## Descent et Tabou"
   ]
  },
  {
   "cell_type": "code",
   "execution_count": 74,
   "id": "chinese-payday",
   "metadata": {},
   "outputs": [
    {
     "data": {
      "text/plain": [
       "[11, 74, 1289, 1955, 1944, 2940]"
      ]
     },
     "execution_count": 74,
     "metadata": {},
     "output_type": "execute_result"
    }
   ],
   "source": [
    "lrpt_res"
   ]
  },
  {
   "cell_type": "code",
   "execution_count": 69,
   "id": "impossible-cooking",
   "metadata": {},
   "outputs": [
    {
     "data": {
      "text/plain": [
       "{'aaa1':            SPT  LRPT EST_SPT EST_LRPT descent tabou\n",
       " instance  aaa1  aaa1    aaa1     aaa1    aaa1  aaa1\n",
       " size       2x3   2x3     2x3      2x3     2x3   2x3\n",
       " best        11    11      11       11      11    11\n",
       " runtime      0     0       0        0       0  0.01\n",
       " makespan    16    11      12       12      12    12\n",
       " ecart     45.5     0     9.1      9.1     9.1   9.1,\n",
       " 'ft06':            SPT  LRPT EST_SPT EST_LRPT descent tabou\n",
       " instance  ft06  ft06    ft06     ft06    ft06  ft06\n",
       " size       6x6   6x6     6x6      6x6     6x6   6x6\n",
       " best        55    55      55       55      55    55\n",
       " runtime      0     0       0        0       0  0.04\n",
       " makespan   108    74      77       63      63    63\n",
       " ecart     96.4  34.5      40     14.5    14.5  14.5,\n",
       " 'ft10':             SPT   LRPT EST_SPT EST_LRPT descent  tabou\n",
       " instance   ft10   ft10    ft10     ft10    ft10   ft10\n",
       " size      10x10  10x10   10x10    10x10   10x10  10x10\n",
       " best        930    930     930      930     930    930\n",
       " runtime       0      0       0        0    0.01   0.16\n",
       " makespan   2569   1289    2330     1259    1259   1259\n",
       " ecart     176.2   38.6   150.5     35.4    35.4   35.4,\n",
       " 'ft20':             SPT  LRPT EST_SPT EST_LRPT descent tabou\n",
       " instance   ft20  ft20    ft20     ft20    ft20  ft20\n",
       " size       20x5  20x5    20x5     20x5    20x5  20x5\n",
       " best       1165  1165    1165     1165    1165  1165\n",
       " runtime       0     0       0        0    0.01  0.25\n",
       " makespan   2765  1955    1662     1844    1844  1844\n",
       " ecart     137.3  67.8    42.7     58.3    58.3  58.3,\n",
       " 'la30':             SPT   LRPT EST_SPT EST_LRPT descent  tabou\n",
       " instance   la30   la30    la30     la30    la30   la30\n",
       " size      20x10  20x10   20x10    20x10   20x10  20x10\n",
       " best       1355   1355    1355     1355    1355   1355\n",
       " runtime       0   0.01       0     0.01    0.01   0.28\n",
       " makespan   5409   1944    2533     1866    1866   1866\n",
       " ecart     299.2   43.5    86.9     37.7    37.7   37.7,\n",
       " 'ta40':             SPT   LRPT EST_SPT EST_LRPT descent  tabou\n",
       " instance   ta40   ta40    ta40     ta40    ta40   ta40\n",
       " size      30x15  30x15   30x15    30x15   30x15  30x15\n",
       " best       1674   1674    1674     1674    1674   1674\n",
       " runtime    0.02   0.01    0.02     0.02    0.03   0.97\n",
       " makespan  10411   2940    4294     2917    2917   2917\n",
       " ecart     521.9   75.6   156.5     74.3    74.3   74.3}"
      ]
     },
     "execution_count": 69,
     "metadata": {},
     "output_type": "execute_result"
    }
   ],
   "source": [
    "Res"
   ]
  },
  {
   "cell_type": "code",
   "execution_count": 105,
   "id": "vocational-technology",
   "metadata": {},
   "outputs": [],
   "source": [
    "ecart_descent = [Res[k].descent.values[5] for k in Res.keys()]\n",
    "#ecart_spt = [Res[k].SPT.values[5] for k in Res.keys()]\n",
    "#ecart_est_spt = [Res[k].EST_SPT.values[5] for k in Res.keys()]\n",
    "#ecart_est_lrpt = [Res[k].EST_LRPT.values[5] for k in Res.keys()]"
   ]
  },
  {
   "cell_type": "code",
   "execution_count": 106,
   "id": "ceramic-cleaning",
   "metadata": {},
   "outputs": [
    {
     "data": {
      "text/plain": [
       "[0.0, 10.9, 35.4, 45.8, 32.1, 62.6]"
      ]
     },
     "execution_count": 106,
     "metadata": {},
     "output_type": "execute_result"
    }
   ],
   "source": [
    "ecart_descent"
   ]
  },
  {
   "cell_type": "code",
   "execution_count": 104,
   "id": "married-stand",
   "metadata": {},
   "outputs": [],
   "source": [
    "ecart_tabou = [Res[k].tabou.values[5] for k in Res.keys()]"
   ]
  },
  {
   "cell_type": "code",
   "execution_count": 68,
   "id": "executive-access",
   "metadata": {},
   "outputs": [
    {
     "data": {
      "text/plain": [
       "[9.1, 14.5, 35.4, 58.3, 37.7, 74.3]"
      ]
     },
     "execution_count": 68,
     "metadata": {},
     "output_type": "execute_result"
    }
   ],
   "source": [
    "ecart_tabou"
   ]
  },
  {
   "cell_type": "code",
   "execution_count": 70,
   "id": "complex-congo",
   "metadata": {},
   "outputs": [],
   "source": [
    "Makespan_descent = [Res[k].descent.values[4] for k in Res.keys()]\n",
    "Makespan_tabou = [Res[k].tabou.values[4] for k in Res.keys()]"
   ]
  },
  {
   "cell_type": "code",
   "execution_count": 72,
   "id": "challenging-russell",
   "metadata": {},
   "outputs": [
    {
     "data": {
      "text/plain": [
       "[12, 63, 1259, 1844, 1866, 2917]"
      ]
     },
     "execution_count": 72,
     "metadata": {},
     "output_type": "execute_result"
    }
   ],
   "source": [
    "Makespan_descent"
   ]
  },
  {
   "cell_type": "code",
   "execution_count": 73,
   "id": "former-caribbean",
   "metadata": {},
   "outputs": [
    {
     "data": {
      "text/plain": [
       "[12, 63, 1259, 1844, 1866, 2917]"
      ]
     },
     "execution_count": 73,
     "metadata": {},
     "output_type": "execute_result"
    }
   ],
   "source": [
    "Makespan_tabou"
   ]
  },
  {
   "cell_type": "code",
   "execution_count": 78,
   "id": "optional-silence",
   "metadata": {},
   "outputs": [
    {
     "data": {
      "text/plain": [
       "{'aaa1': 11, 'ft06': 55, 'ft10': 930, 'ft20': 1165, 'la30': 1355, 'ta40': 1674}"
      ]
     },
     "execution_count": 78,
     "metadata": {},
     "output_type": "execute_result"
    }
   ],
   "source": [
    "besties"
   ]
  },
  {
   "cell_type": "code",
   "execution_count": 77,
   "id": "synthetic-calculation",
   "metadata": {},
   "outputs": [
    {
     "data": {
      "text/plain": [
       "dict_values([11, 55, 930, 1165, 1355, 1674])"
      ]
     },
     "execution_count": 77,
     "metadata": {},
     "output_type": "execute_result"
    }
   ],
   "source": [
    "besties.values()"
   ]
  },
  {
   "cell_type": "code",
   "execution_count": 98,
   "id": "outdoor-moses",
   "metadata": {},
   "outputs": [],
   "source": [
    "Makespan_descent = [12, 63, 1259, 1844, 1866, 2917]\n",
    "Makespan_tabou = [12, 63, 1259, 1844, 1866, 2917]\n",
    "ress3 = {}\n",
    "ress4 = {}\n",
    "for inst,res in zip(instances, Makespan_descent):\n",
    "    ress3[inst] = res\n",
    "    \n",
    "for inst,res in zip(instances, Makespan_tabou):\n",
    "    ress4[inst] = res"
   ]
  },
  {
   "cell_type": "code",
   "execution_count": 79,
   "id": "organized-puzzle",
   "metadata": {},
   "outputs": [
    {
     "data": {
      "text/plain": [
       "<Figure size 720x360 with 0 Axes>"
      ]
     },
     "metadata": {},
     "output_type": "display_data"
    },
    {
     "data": {
      "image/png": "[encoded data removed]",
      "text/plain": [
       "<Figure size 576x432 with 1 Axes>"
      ]
     },
     "metadata": {
      "needs_background": "light"
     },
     "output_type": "display_data"
    }
   ],
   "source": [
    "instances = list(ress.keys())\n",
    "Descent_results = list(ress3.values())\n",
    "best_results = list(besties.values())\n",
    "fig = plt.figure(figsize = (10, 5))\n",
    "Tabou_results = list(ress4.values())\n",
    "# creating the bar plot\n",
    "\n",
    "#plt.bar(instances, spt_results, color ='red',width = 0.4)\n",
    "#plt.bar(instances, best_results, color ='blue',width = 0.4)\n",
    "\n",
    "width = 0.35  # the width of the bars\n",
    "x = np.arange(len(instances))\n",
    "fig, ax = plt.subplots(figsize=(8,6))\n",
    "rects1 = ax.bar(x - width/2, spt_results, width, label='SPT result')\n",
    "rects2 = ax.bar(x + width/2, best_results, width, label='Best result')\n",
    "    \n",
    "plt.xlabel(\"instances\")\n",
    "plt.ylabel(\"makespan\")\n",
    "plt.grid(which='both')\n",
    "plt.title(\"Descent makespan\")\n",
    "plt.show()"
   ]
  },
  {
   "cell_type": "code",
   "execution_count": 112,
   "id": "annoying-machine",
   "metadata": {},
   "outputs": [
    {
     "data": {
      "image/png": "[encoded data removed]",
      "text/plain": [
       "<Figure size 576x720 with 1 Axes>"
      ]
     },
     "metadata": {
      "needs_background": "light"
     },
     "output_type": "display_data"
    }
   ],
   "source": [
    "plt.plot(instances,ecart_descent,'-o', label='ecart Descent')\n",
    "plt.plot(instances,ecart_tabou,'-o', label='ecart Tabou')\n",
    "#plt.plot(instances,ecart_lrpt,'-o', label='ecart LRPT')\n",
    "plt.plot(instances,ecart_est_lrpt,'-o', label='ecart EST_LRPT')\n",
    "\n",
    "plt.title(\"ecart\")\n",
    "plt.legend()\n",
    "plt.grid(which='both')\n",
    "plt.show()"
   ]
  },
  {
   "cell_type": "code",
   "execution_count": null,
   "id": "standing-andrew",
   "metadata": {},
   "outputs": [],
   "source": [
    "Res['ft20'].T.makespan.plot.bar(legend=True,)\n",
    "plt.show()"
   ]
  },
  {
   "cell_type": "code",
   "execution_count": 1,
   "id": "italian-conversion",
   "metadata": {},
   "outputs": [],
   "source": [
    "import math\n",
    "import time\n",
    "import copy\n",
    "from typing import List\n",
    "import matplotlib.pyplot as plt\n",
    "import numpy as np\n",
    "from utils.Instance import Instance\n",
    "from utils.JobNumbers import JobNumbers\n",
    "from utils.RessourceOrder import RessourceOrder\n",
    "from utils.Result import Result\n",
    "from utils.Schedule import Schedule\n",
    "\n",
    "\n",
    "def blog_critic_path(crit_path, instance: Instance):\n",
    "    blog = []\n",
    "    blogs = []\n",
    "\n",
    "    pre_machine = instance.machine(task=crit_path[0])\n",
    "\n",
    "    blogs.append(crit_path[0])\n",
    "\n",
    "    for task in crit_path:\n",
    "        if pre_machine == instance.machine(task=task):\n",
    "            blogs.append(task)\n",
    "        else:\n",
    "            blog.append(blogs)\n",
    "            blogs = [task]\n",
    "\n",
    "        pre_machine = instance.machine(task=task)\n",
    "    blog.append(blogs)\n",
    "\n",
    "    blog = [b for b in blog if len(b) > 1]\n",
    "    return blog\n",
    "\n",
    "\n",
    "def sol_gen_voisin(blogs, schedule: Schedule, instance: Instance):\n",
    "    machine = instance.machine(task=bloc[0])\n",
    "\n",
    "    solutions = []\n",
    "    neigbors = []\n",
    "\n",
    "    neighbor1 = []\n",
    "    neighbor1.extend(blogs)\n",
    "    neighbor1[1], neighbor1[0] = neighbor1[0], neighbor1[1]\n",
    "    neigbors.append(neighbor1)\n",
    "    new_solution = RessourceOrder(instance=schedule).tasksByMachine\n",
    "    # print(new_solution)\n",
    "    # print(new_solution[machine])\n",
    "    # index = new_solution[machine].index(bloc[0])\n",
    "    for e in new_solution[machine]:\n",
    "        if e.job == blogs[0].job:\n",
    "            index = new_solution[machine].index(e)\n",
    "            break\n",
    "\n",
    "    new_solution[machine][index], new_solution[machine][index + 1] = new_solution[machine][index + 1], \\\n",
    "                                                                     new_solution[machine][index]\n",
    "    solutions.append(new_solution)\n",
    "\n",
    "    if len(blogs) > 2:\n",
    "        # permutation 2 dernières\n",
    "        neighbor2 = []\n",
    "        neighbor2.extend(blogs)\n",
    "        neighbor2[-1], neighbor2[-2] = neighbor2[-2], neighbor2[-1]\n",
    "        neigbors.append(neighbor2)\n",
    "\n",
    "        new_solution = RessourceOrder(instance=schedule).tasksByMachine\n",
    "        # index = new_solution[machine].index((bloc[-1]))\n",
    "        for e in new_solution[machine]:\n",
    "            if e.job == bloc[-1].job:\n",
    "                index = new_solution[machine].index(e)\n",
    "                break\n",
    "        new_solution[machine][index - 1], new_solution[machine][index] = new_solution[machine][index], \\\n",
    "                                                                         new_solution[machine][index - 1]\n",
    "        solutions.append(new_solution)\n",
    "\n",
    "    return solutions\n",
    "\n",
    "\n",
    "def return_all_negh(blog, solution: Schedule, instance: Instance):\n",
    "    all_neighbor = []\n",
    "    for i in range(len(blocks)):\n",
    "        b = blocks[i]\n",
    "        new_sol = sol_gen_voisin(bloc=b, schedule=solution, instance=instance)\n",
    "        all_negh.extend(new_sol)\n",
    "    return all_negh\n",
    "\n",
    "\n",
    "def best_neigh(all_neighbors, instance: Instance):\n",
    "    best_neighbor = math.inf\n",
    "    for solution in all_neighbors:\n",
    "        job__mu = JobNumbers(instance=instance)\n",
    "        jobs: List[int] = []\n",
    "        for e in solution:\n",
    "            for a in e:\n",
    "                jobs.append(a.job)\n",
    "        job__mu.jobs = jobs\n",
    "        # print(len(jobs))\n",
    "        job__mu.nextToSet = len(jobs)\n",
    "        sc = job__mu.toSchedule()\n",
    "\n",
    "        if sc.isValid():\n",
    "            new_details = sc.times\n",
    "            # print(RessourceOrder(instance=sc).toString())\n",
    "            new_evals = sc.makespan()\n",
    "            # print(new_eval)\n",
    "            if new_eval < best_nei:\n",
    "                best_neighbor = new_eval\n",
    "                best_solution_neighbor = solution\n",
    "                best_neighbor_detail = new_detail\n",
    "                best_sc = sc\n",
    "                assert best_sc.isValid()\n",
    "        else:\n",
    "            continue\n",
    "\n",
    "    return best_neighbor, best_solution_neighbor, best_neighbor_detail, best_sc\n",
    "\n",
    "\n",
    "def plot_descent(list_makespan, descent=True):\n",
    "    x = np.arange(len(list_makespan))\n",
    "    print(\"liste\", str(list_makespan))\n",
    "    plt.plot(x, list_makespan)\n",
    "    if descent:\n",
    "        plt.title(\"Evolution du makespan au cours de la descente\")\n",
    "    else:\n",
    "        plt.title(\"Evolution du makespan au cours de la méthode tabou\")\n",
    "    plt.xlabel(\"Intéations\")\n",
    "    plt.ylabel(\"Makespan\")\n",
    "    plt.show()\n",
    "\n",
    "\n",
    "def descent_solv(instance: Instance, solution: Schedule, timeout=3600, plot=True):\n",
    "    best_solution_ = solution\n",
    "    best_detail_ = solution.times\n",
    "    makespan = solution.makespan()\n",
    "\n",
    "    path = solution.criticalPath()\n",
    "    list_makespan = [makespan]\n",
    "\n",
    "    start = time.time()\n",
    "    while time.time() < start + timeout:\n",
    "\n",
    "        blocks = blocks_from_critic_path(crit_path=path, instance=instance)\n",
    "        all_neighbors = return_all_negh(blocks=blocks, solution=best_solution, instance=instance)\n",
    "\n",
    "        best_voisin, best_voisin_sol, best_voisin_detail, best_voisin_sc = best_neigh(all_neighbors=all_neighbors,\n",
    "                                                                                      instance=instance)\n",
    "\n",
    "        if best_voisin < makespan:\n",
    "            makespan = best_voisin\n",
    "            list_makespan.append(makespan)\n",
    "            best_solution_ = best_voisin_sc\n",
    "            best_sc = best_voisin_sc\n",
    "            path = best_sc.criticalPath()\n",
    "        else:\n",
    "            print(\"no improvement\")\n",
    "            break\n",
    "    if plot: plot_descent(list_makespan)\n",
    "\n",
    "    return Result(instance=instance, schedule=best_solution_), best_solution_\n",
    "\n"
   ]
  },
  {
   "cell_type": "code",
   "execution_count": null,
   "id": "preceding-constitutional",
   "metadata": {},
   "outputs": [],
   "source": []
  }
 ],
 "metadata": {
  "kernelspec": {
   "display_name": "Python 3",
   "language": "python",
   "name": "python3"
  },
  "language_info": {
   "codemirror_mode": {
    "name": "ipython",
    "version": 3
   },
   "file_extension": ".py",
   "mimetype": "text/x-python",
   "name": "python",
   "nbconvert_exporter": "python",
   "pygments_lexer": "ipython3",
   "version": "3.8.3"
  }
 },
 "nbformat": 4,
 "nbformat_minor": 5
}
